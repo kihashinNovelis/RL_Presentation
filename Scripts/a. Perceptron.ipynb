{
 "cells": [
  {
   "cell_type": "markdown",
   "metadata": {},
   "source": [
    "### Pytorch Perceptron"
   ]
  },
  {
   "cell_type": "code",
   "execution_count": 1,
   "metadata": {},
   "outputs": [],
   "source": [
    "import torch\n",
    "import torchvision"
   ]
  },
  {
   "cell_type": "code",
   "execution_count": 2,
   "metadata": {},
   "outputs": [],
   "source": [
    "import torch.nn as nn\n",
    "import torch.nn.functional as F \n",
    "import torch.optim as optim"
   ]
  },
  {
   "cell_type": "code",
   "execution_count": 3,
   "metadata": {},
   "outputs": [],
   "source": [
    "X = torch.FloatTensor([[0 ,0, 0, 1], [1, 0, 1, 0], [0, 1, 0, 1], [ 1, 1, 1, 1], [ 1, 1, 1, 0]])\n",
    "Y = torch.FloatTensor([[0], [1], [1], [0], [1]])\n",
    "# Y = torch.FloatTensor([0, 1, 1, 0, 1]).reshape(5,1)"
   ]
  },
  {
   "cell_type": "code",
   "execution_count": 4,
   "metadata": {},
   "outputs": [
    {
     "name": "stdout",
     "output_type": "stream",
     "text": [
      "torch.Size([5, 4])\n",
      "torch.Size([5, 1])\n"
     ]
    }
   ],
   "source": [
    "print(X.shape)\n",
    "print(Y.shape)"
   ]
  },
  {
   "cell_type": "code",
   "execution_count": 5,
   "metadata": {},
   "outputs": [],
   "source": [
    "linear1 = torch.nn.Linear(4, 2, bias=True)\n",
    "linear2 = torch.nn.Linear(2, 1, bias=True)\n",
    "sigmoid = torch.nn.Sigmoid()\n",
    "\n",
    "model = torch.nn.Sequential(linear1, sigmoid, linear2, sigmoid)\n",
    "criterion = torch.nn.BCELoss()\n",
    "optimizer = torch.optim.SGD(model.parameters(), lr=1)"
   ]
  },
  {
   "cell_type": "code",
   "execution_count": 38,
   "metadata": {},
   "outputs": [],
   "source": [
    "class Net(nn.Module):\n",
    "    def __init__(self):\n",
    "        super(Net, self).__init__()\n",
    "        self.fc1 = nn.Linear(4, 2)\n",
    "        self.fc2 = nn.Linear(2, 1)   \n",
    "  \n",
    "    def forward(self, x): \n",
    "        x = self.fc1(x)\n",
    "        x = self.fc2(x)\n",
    "        x = F.sigmoid(x)\n",
    "        return x\n",
    "\n",
    "model = Net()    \n",
    "criterion = torch.nn.BCELoss()\n",
    "optimizer = torch.optim.SGD(model.parameters(), lr=1) "
   ]
  },
  {
   "cell_type": "code",
   "execution_count": 6,
   "metadata": {},
   "outputs": [
    {
     "name": "stdout",
     "output_type": "stream",
     "text": [
      "  0 :  0.800267994403839\n",
      "1000 :  0.007392004132271\n",
      "2000 :  0.002994632814080\n",
      "3000 :  0.001834120950662\n",
      "4000 :  0.001308542443439\n",
      "5000 :  0.001011261949316\n",
      "6000 :  0.000820973131340\n",
      "7000 :  0.000689150707331\n",
      "8000 :  0.000592683383729\n",
      "9000 :  0.000519129447639\n"
     ]
    }
   ],
   "source": [
    "for step in range(10000):\n",
    "    optimizer.zero_grad()\n",
    "    \n",
    "    outputs = model(X)\n",
    "    \n",
    "    cost = criterion(outputs, Y)\n",
    "    cost.backward()\n",
    "    optimizer.step()    \n",
    "\n",
    "    if step % 1000 == 0:\n",
    "        print('%3d :  %15.15f' % (step, cost.item()))"
   ]
  },
  {
   "cell_type": "code",
   "execution_count": 7,
   "metadata": {},
   "outputs": [
    {
     "name": "stdout",
     "output_type": "stream",
     "text": [
      "     y      yhat\n",
      "0  0.0  0.000427\n",
      "1  1.0  0.999494\n",
      "2  1.0  0.999303\n",
      "3  0.0  0.000603\n",
      "4  1.0  0.999928\n"
     ]
    }
   ],
   "source": [
    "import numpy as np\n",
    "import pandas as pd\n",
    "pred = model(X)\n",
    "y = pd.Series(Y.flatten().numpy(), name='y')\n",
    "yhat = pd.Series(pred.detach().flatten().numpy(), name='yhat')\n",
    "comb = pd.concat([y, yhat], axis=1)\n",
    "print(comb)"
   ]
  },
  {
   "cell_type": "code",
   "execution_count": null,
   "metadata": {},
   "outputs": [],
   "source": []
  }
 ],
 "metadata": {
  "kernelspec": {
   "display_name": "Python 3",
   "language": "python",
   "name": "python3"
  },
  "language_info": {
   "codemirror_mode": {
    "name": "ipython",
    "version": 3
   },
   "file_extension": ".py",
   "mimetype": "text/x-python",
   "name": "python",
   "nbconvert_exporter": "python",
   "pygments_lexer": "ipython3",
   "version": "3.8.5"
  }
 },
 "nbformat": 4,
 "nbformat_minor": 4
}
