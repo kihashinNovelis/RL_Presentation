{
 "cells": [
  {
   "cell_type": "markdown",
   "metadata": {},
   "source": [
    "### Transition Model"
   ]
  },
  {
   "cell_type": "code",
   "execution_count": 69,
   "metadata": {},
   "outputs": [],
   "source": [
    "import pandas as pd\n",
    "import numpy as np\n",
    "import os\n",
    "import pickle\n",
    "import matplotlib\n",
    "import matplotlib.pyplot as plt\n",
    "%matplotlib inline  \n",
    "import random\n",
    "\n",
    "import warnings\n",
    "warnings.filterwarnings(\"ignore\")"
   ]
  },
  {
   "cell_type": "code",
   "execution_count": 70,
   "metadata": {},
   "outputs": [
    {
     "name": "stdout",
     "output_type": "stream",
     "text": [
      "C:\\Users\\shinki\\OneDrive - Novelis Inc\\Documents\\Data Science\\10. Learning\\7b. Use Case\n"
     ]
    }
   ],
   "source": [
    "path = os.path.dirname(os.getcwd())\n",
    "print(path)"
   ]
  },
  {
   "cell_type": "code",
   "execution_count": 72,
   "metadata": {},
   "outputs": [
    {
     "name": "stdout",
     "output_type": "stream",
     "text": [
      "3827\n"
     ]
    },
    {
     "data": {
      "text/html": [
       "<div>\n",
       "<style scoped>\n",
       "    .dataframe tbody tr th:only-of-type {\n",
       "        vertical-align: middle;\n",
       "    }\n",
       "\n",
       "    .dataframe tbody tr th {\n",
       "        vertical-align: top;\n",
       "    }\n",
       "\n",
       "    .dataframe thead th {\n",
       "        text-align: right;\n",
       "    }\n",
       "</style>\n",
       "<table border=\"1\" class=\"dataframe\">\n",
       "  <thead>\n",
       "    <tr style=\"text-align: right;\">\n",
       "      <th></th>\n",
       "      <th>Batch</th>\n",
       "      <th>after_20min</th>\n",
       "      <th>skimm_start_time</th>\n",
       "      <th>Time_9hour</th>\n",
       "      <th>melting_cycle</th>\n",
       "      <th>skimm_time</th>\n",
       "      <th>airgas_ratio</th>\n",
       "      <th>inner_temp_pv</th>\n",
       "      <th>pre_heated_air_temp</th>\n",
       "      <th>inner_press_pv</th>\n",
       "      <th>Melter</th>\n",
       "      <th>ALLOY</th>\n",
       "      <th>input_total</th>\n",
       "      <th>Prime</th>\n",
       "      <th>Scrap</th>\n",
       "      <th>R S I</th>\n",
       "      <th>molten(%)</th>\n",
       "    </tr>\n",
       "    <tr>\n",
       "      <th>time</th>\n",
       "      <th></th>\n",
       "      <th></th>\n",
       "      <th></th>\n",
       "      <th></th>\n",
       "      <th></th>\n",
       "      <th></th>\n",
       "      <th></th>\n",
       "      <th></th>\n",
       "      <th></th>\n",
       "      <th></th>\n",
       "      <th></th>\n",
       "      <th></th>\n",
       "      <th></th>\n",
       "      <th></th>\n",
       "      <th></th>\n",
       "      <th></th>\n",
       "      <th></th>\n",
       "    </tr>\n",
       "  </thead>\n",
       "  <tbody>\n",
       "    <tr>\n",
       "      <th>2020-12-01 10:25:19</th>\n",
       "      <td>S49135</td>\n",
       "      <td>2020-12-01 10:25:19.000000</td>\n",
       "      <td>2020-12-01 11:53:19.000000</td>\n",
       "      <td>2020-12-01 10:25:19.000000</td>\n",
       "      <td>20</td>\n",
       "      <td>0</td>\n",
       "      <td>13.15</td>\n",
       "      <td>848.32</td>\n",
       "      <td>144.76</td>\n",
       "      <td>7.62</td>\n",
       "      <td>Melter_4</td>\n",
       "      <td>K3104</td>\n",
       "      <td>27,350.00</td>\n",
       "      <td>0.00</td>\n",
       "      <td>18,350.00</td>\n",
       "      <td>2,000.00</td>\n",
       "      <td>25.59</td>\n",
       "    </tr>\n",
       "    <tr>\n",
       "      <th>2020-12-01 10:26:19</th>\n",
       "      <td>S49135</td>\n",
       "      <td>2020-12-01 10:25:19.000000</td>\n",
       "      <td>2020-12-01 11:53:19.000000</td>\n",
       "      <td>2020-12-01 10:26:19.000000</td>\n",
       "      <td>21</td>\n",
       "      <td>0</td>\n",
       "      <td>13.06</td>\n",
       "      <td>850.83</td>\n",
       "      <td>145.58</td>\n",
       "      <td>6.59</td>\n",
       "      <td>Melter_4</td>\n",
       "      <td>K3104</td>\n",
       "      <td>27,350.00</td>\n",
       "      <td>0.00</td>\n",
       "      <td>18,350.00</td>\n",
       "      <td>2,000.00</td>\n",
       "      <td>25.59</td>\n",
       "    </tr>\n",
       "    <tr>\n",
       "      <th>2020-12-01 10:27:19</th>\n",
       "      <td>S49135</td>\n",
       "      <td>2020-12-01 10:25:19.000000</td>\n",
       "      <td>2020-12-01 11:53:19.000000</td>\n",
       "      <td>2020-12-01 10:27:19.000000</td>\n",
       "      <td>22</td>\n",
       "      <td>0</td>\n",
       "      <td>13.10</td>\n",
       "      <td>856.76</td>\n",
       "      <td>146.34</td>\n",
       "      <td>6.71</td>\n",
       "      <td>Melter_4</td>\n",
       "      <td>K3104</td>\n",
       "      <td>27,350.00</td>\n",
       "      <td>0.00</td>\n",
       "      <td>18,350.00</td>\n",
       "      <td>2,000.00</td>\n",
       "      <td>25.59</td>\n",
       "    </tr>\n",
       "    <tr>\n",
       "      <th>2020-12-01 10:28:19</th>\n",
       "      <td>S49135</td>\n",
       "      <td>2020-12-01 10:25:19.000000</td>\n",
       "      <td>2020-12-01 11:53:19.000000</td>\n",
       "      <td>2020-12-01 10:28:19.000000</td>\n",
       "      <td>23</td>\n",
       "      <td>0</td>\n",
       "      <td>13.12</td>\n",
       "      <td>862.79</td>\n",
       "      <td>147.02</td>\n",
       "      <td>7.13</td>\n",
       "      <td>Melter_4</td>\n",
       "      <td>K3104</td>\n",
       "      <td>27,350.00</td>\n",
       "      <td>0.00</td>\n",
       "      <td>18,350.00</td>\n",
       "      <td>2,000.00</td>\n",
       "      <td>25.59</td>\n",
       "    </tr>\n",
       "    <tr>\n",
       "      <th>2020-12-01 10:29:19</th>\n",
       "      <td>S49135</td>\n",
       "      <td>2020-12-01 10:25:19.000000</td>\n",
       "      <td>2020-12-01 11:53:19.000000</td>\n",
       "      <td>2020-12-01 10:29:19.000000</td>\n",
       "      <td>24</td>\n",
       "      <td>0</td>\n",
       "      <td>12.98</td>\n",
       "      <td>868.74</td>\n",
       "      <td>148.16</td>\n",
       "      <td>2.78</td>\n",
       "      <td>Melter_4</td>\n",
       "      <td>K3104</td>\n",
       "      <td>27,350.00</td>\n",
       "      <td>0.00</td>\n",
       "      <td>18,350.00</td>\n",
       "      <td>2,000.00</td>\n",
       "      <td>25.59</td>\n",
       "    </tr>\n",
       "  </tbody>\n",
       "</table>\n",
       "</div>"
      ],
      "text/plain": [
       "                      Batch                 after_20min  \\\n",
       "time                                                      \n",
       "2020-12-01 10:25:19  S49135  2020-12-01 10:25:19.000000   \n",
       "2020-12-01 10:26:19  S49135  2020-12-01 10:25:19.000000   \n",
       "2020-12-01 10:27:19  S49135  2020-12-01 10:25:19.000000   \n",
       "2020-12-01 10:28:19  S49135  2020-12-01 10:25:19.000000   \n",
       "2020-12-01 10:29:19  S49135  2020-12-01 10:25:19.000000   \n",
       "\n",
       "                               skimm_start_time                  Time_9hour  \\\n",
       "time                                                                          \n",
       "2020-12-01 10:25:19  2020-12-01 11:53:19.000000  2020-12-01 10:25:19.000000   \n",
       "2020-12-01 10:26:19  2020-12-01 11:53:19.000000  2020-12-01 10:26:19.000000   \n",
       "2020-12-01 10:27:19  2020-12-01 11:53:19.000000  2020-12-01 10:27:19.000000   \n",
       "2020-12-01 10:28:19  2020-12-01 11:53:19.000000  2020-12-01 10:28:19.000000   \n",
       "2020-12-01 10:29:19  2020-12-01 11:53:19.000000  2020-12-01 10:29:19.000000   \n",
       "\n",
       "                     melting_cycle  skimm_time  airgas_ratio  inner_temp_pv  \\\n",
       "time                                                                          \n",
       "2020-12-01 10:25:19             20           0         13.15         848.32   \n",
       "2020-12-01 10:26:19             21           0         13.06         850.83   \n",
       "2020-12-01 10:27:19             22           0         13.10         856.76   \n",
       "2020-12-01 10:28:19             23           0         13.12         862.79   \n",
       "2020-12-01 10:29:19             24           0         12.98         868.74   \n",
       "\n",
       "                     pre_heated_air_temp  inner_press_pv    Melter  ALLOY  \\\n",
       "time                                                                        \n",
       "2020-12-01 10:25:19               144.76            7.62  Melter_4  K3104   \n",
       "2020-12-01 10:26:19               145.58            6.59  Melter_4  K3104   \n",
       "2020-12-01 10:27:19               146.34            6.71  Melter_4  K3104   \n",
       "2020-12-01 10:28:19               147.02            7.13  Melter_4  K3104   \n",
       "2020-12-01 10:29:19               148.16            2.78  Melter_4  K3104   \n",
       "\n",
       "                     input_total  Prime    Scrap   R S I    molten(%)  \n",
       "time                                                                   \n",
       "2020-12-01 10:25:19    27,350.00   0.00 18,350.00 2,000.00      25.59  \n",
       "2020-12-01 10:26:19    27,350.00   0.00 18,350.00 2,000.00      25.59  \n",
       "2020-12-01 10:27:19    27,350.00   0.00 18,350.00 2,000.00      25.59  \n",
       "2020-12-01 10:28:19    27,350.00   0.00 18,350.00 2,000.00      25.59  \n",
       "2020-12-01 10:29:19    27,350.00   0.00 18,350.00 2,000.00      25.59  "
      ]
     },
     "execution_count": 72,
     "metadata": {},
     "output_type": "execute_result"
    }
   ],
   "source": [
    "data = pd.read_pickle(path + '\\\\Data\\\\airgas_sample_for_RNF2.pickle')\n",
    "print(data['Batch'].nunique())\n",
    "data.rename(columns={'Air_gas_ratio_pv':'airgas_ratio', 'Total 장입량': 'input_total'}, inplace=True) # 컬럼이름 변경\n",
    "data['time'] = pd.to_datetime(data['Time_9hour'], errors='raise') # Datetime 으로 변경\n",
    "data.set_index('time', inplace=True)\n",
    "data.head()"
   ]
  },
  {
   "cell_type": "code",
   "execution_count": 102,
   "metadata": {},
   "outputs": [
    {
     "name": "stdout",
     "output_type": "stream",
     "text": [
      "<class 'pandas.core.frame.DataFrame'>\n",
      "DatetimeIndex: 320672 entries, 2020-12-01 10:25:19 to 2021-08-31 22:41:01\n",
      "Data columns (total 17 columns):\n",
      " #   Column               Non-Null Count   Dtype  \n",
      "---  ------               --------------   -----  \n",
      " 0   Batch                320672 non-null  object \n",
      " 1   after_20min          320672 non-null  object \n",
      " 2   skimm_start_time     320672 non-null  object \n",
      " 3   Time_9hour           320672 non-null  object \n",
      " 4   melting_cycle        320672 non-null  int64  \n",
      " 5   skimm_time           320672 non-null  int64  \n",
      " 6   airgas_ratio         320672 non-null  float64\n",
      " 7   inner_temp_pv        320672 non-null  float64\n",
      " 8   pre_heated_air_temp  320672 non-null  float64\n",
      " 9   inner_press_pv       320672 non-null  float64\n",
      " 10  Melter               312673 non-null  object \n",
      " 11  ALLOY                312673 non-null  object \n",
      " 12  input_total          312673 non-null  float64\n",
      " 13  Prime                312673 non-null  float64\n",
      " 14  Scrap                312673 non-null  float64\n",
      " 15  R S I                312673 non-null  float64\n",
      " 16  molten(%)            312673 non-null  float64\n",
      "dtypes: float64(9), int64(2), object(6)\n",
      "memory usage: 44.0+ MB\n"
     ]
    }
   ],
   "source": [
    "data.info()"
   ]
  },
  {
   "cell_type": "code",
   "execution_count": 103,
   "metadata": {},
   "outputs": [
    {
     "name": "stdout",
     "output_type": "stream",
     "text": [
      "count   21,642.00\n",
      "mean        13.43\n",
      "std          5.26\n",
      "min          1.00\n",
      "5%           7.00\n",
      "10%          8.00\n",
      "15%          9.00\n",
      "50%         13.00\n",
      "85%         17.00\n",
      "90%         19.00\n",
      "95%         25.00\n",
      "max         37.00\n",
      "Name: count, dtype: float64\n"
     ]
    }
   ],
   "source": [
    "data2 =  data[data['inner_temp_pv'].between(750,950) & (data['Melter']=='Melter_3')] # 멜터 3번만 - 시그널 비교적 안정적\n",
    "# 헌팅을 최소화하기 위해 5분간격 데이터로 변경 - 비어있는 셀이 발생함 나중에 fillna 로 처리. 이렇게 하면 배치 시간의 이중 인덱스로 됨 \n",
    "summary = data2.groupby('Batch').resample('3Min')[['input_total','molten(%)','airgas_ratio','pre_heated_air_temp','inner_press_pv','inner_temp_pv']].median()\n",
    "\n",
    "summary.sort_index(inplace=True)\n",
    "summary.fillna(method='ffill', inplace=True) # 혹시나 빈셀 채워넣음\n",
    "summary.reset_index('time', inplace=True) # 시간 인덱스는 드롭됨 \n",
    "\n",
    "summary['count'] = summary.groupby('Batch').size() # 배치별 길이를 만듦\n",
    "print(summary['count'].describe(percentiles=[0.05, 0.1, 0.15, 0.85, 0.9, 0.95]))\n",
    "summary2 = summary[summary['count'].between(9, 18)] # 너무 짧거나 긴 배치는 제외\n",
    "\n",
    "c1 = summary2.groupby('Batch')['inner_temp_pv'].first().between(740, 780)\n",
    "c2 = summary2.groupby('Batch')['inner_temp_pv'].last().between(930, 970) # 스키밍 시작 전에 끊어야 함\n",
    "\n",
    "summary3 = summary2.loc[c1[c1&c2].index] # 시작온도랑 끝온도가 비슷한 배치만 고름"
   ]
  },
  {
   "cell_type": "code",
   "execution_count": 104,
   "metadata": {},
   "outputs": [
    {
     "data": {
      "text/plain": [
       "count   852.00\n",
       "mean    759.78\n",
       "std       7.59\n",
       "min     750.04\n",
       "25%     754.21\n",
       "50%     757.31\n",
       "75%     763.53\n",
       "max     779.89\n",
       "Name: inner_temp_pv, dtype: float64"
      ]
     },
     "execution_count": 104,
     "metadata": {},
     "output_type": "execute_result"
    }
   ],
   "source": [
    "summary3.groupby('Batch')['inner_temp_pv'].first().describe()"
   ]
  },
  {
   "cell_type": "code",
   "execution_count": 105,
   "metadata": {},
   "outputs": [
    {
     "data": {
      "text/plain": [
       "count   10,874.00\n",
       "mean         5.24\n",
       "std          1.00\n",
       "min          3.29\n",
       "25%          4.45\n",
       "50%          5.19\n",
       "75%          5.88\n",
       "max          7.93\n",
       "Name: perf, dtype: float64"
      ]
     },
     "execution_count": 105,
     "metadata": {},
     "output_type": "execute_result"
    }
   ],
   "source": [
    "# 리워드 값을 만들기 위한 데이터 처리\n",
    "summary3['temp_maxmin'] = summary3.groupby('Batch')['inner_temp_pv'].transform(lambda x: x.tail(1) - x.head(1))\n",
    "summary3['time_maxmin'] = summary3.groupby('Batch')['time'].transform(lambda x: x.tail(1) - x.head(1)).dt.total_seconds()/60\n",
    "\n",
    "summary3['input_hard'] = (summary3['input_total']*(1 - summary3['molten(%)']/100))/1000\n",
    "\n",
    "pd.options.display.float_format = \"{:,.2f}\".format\n",
    "summary3['perf'] = (summary3['temp_maxmin']/summary3['time_maxmin'])\n",
    "summary3['perf'].describe()"
   ]
  },
  {
   "cell_type": "code",
   "execution_count": 77,
   "metadata": {},
   "outputs": [
    {
     "data": {
      "text/plain": [
       "count   10,874.00\n",
       "mean        36.51\n",
       "std          6.99\n",
       "min         24.00\n",
       "25%         30.00\n",
       "50%         36.00\n",
       "75%         42.00\n",
       "max         51.00\n",
       "Name: time_maxmin, dtype: float64"
      ]
     },
     "execution_count": 77,
     "metadata": {},
     "output_type": "execute_result"
    }
   ],
   "source": [
    "summary3['time_maxmin'].describe()"
   ]
  },
  {
   "cell_type": "code",
   "execution_count": 106,
   "metadata": {},
   "outputs": [
    {
     "name": "stdout",
     "output_type": "stream",
     "text": [
      "                    min    max\n",
      "airgas_ratio                  \n",
      "(-5.549, 11.551]  -5.55  11.55\n",
      "(11.551, 12.371]  11.55  12.37\n",
      "(12.371, 12.734]  12.38  12.73\n",
      "(12.734, 12.786]  12.73  12.79\n",
      "(12.786, 671.621] 12.79 671.62\n",
      "0    3347\n",
      "1    1020\n",
      "2     991\n",
      "3    4444\n",
      "4    1072\n",
      "Name: action, dtype: int64\n"
     ]
    }
   ],
   "source": [
    "ranks = pd.qcut(summary3['airgas_ratio'], q=5)\n",
    "print(summary3.groupby(ranks)['airgas_ratio'].agg(['min', 'max']))\n",
    "\n",
    "def div_a(x):\n",
    "    if x < 11.6:\n",
    "        return 0    \n",
    "    elif x < 12.4:        \n",
    "        return 1\n",
    "    elif x < 12.7:        \n",
    "        return 2\n",
    "    elif x < 12.9:        \n",
    "        return 3\n",
    "    else:\n",
    "        return 4\n",
    "    \n",
    "summary3['action'] = summary3['airgas_ratio'].apply(div_a)\n",
    "# summary3['action'] = pd.qcut(summary3['airgas_ratio'], q=5, labels=range(5)).astype('int')\n",
    "print(summary3['action'].value_counts().sort_index())"
   ]
  },
  {
   "cell_type": "code",
   "execution_count": 48,
   "metadata": {},
   "outputs": [
    {
     "name": "stdout",
     "output_type": "stream",
     "text": [
      "count   852.00\n",
      "mean    184.33\n",
      "std       8.40\n",
      "min     159.19\n",
      "1%      163.12\n",
      "5%      167.86\n",
      "50%     186.11\n",
      "95%     195.24\n",
      "max     199.16\n",
      "Name: temp_maxmin, dtype: float64\n",
      "count   852.00\n",
      "mean     35.29\n",
      "std       6.84\n",
      "min      24.00\n",
      "1%       24.00\n",
      "5%       27.00\n",
      "50%      36.00\n",
      "95%      48.00\n",
      "max      51.00\n",
      "Name: time_maxmin, dtype: float64\n"
     ]
    }
   ],
   "source": [
    "print(summary3.groupby('Batch')['temp_maxmin'].max().describe(percentiles=[0.01, 0.05, 0.95]))\n",
    "print(summary3.groupby('Batch')['time_maxmin'].max().describe(percentiles=[0.01, 0.05, 0.95]))"
   ]
  },
  {
   "cell_type": "code",
   "execution_count": 107,
   "metadata": {},
   "outputs": [
    {
     "data": {
      "text/plain": [
       "perf\n",
       "(3.291, 4.302]   2.27\n",
       "(4.302, 4.896]   2.15\n",
       "(4.896, 5.467]   1.75\n",
       "(5.467, 6.136]   1.60\n",
       "(6.136, 7.93]    1.70\n",
       "Name: action, dtype: float64"
      ]
     },
     "execution_count": 107,
     "metadata": {},
     "output_type": "execute_result"
    }
   ],
   "source": [
    "ranks = pd.qcut(summary3['perf'], q = 5)\n",
    "summary3.groupby(ranks)['action'].mean()\n",
    "# > Performance 좋은 경우는 일반적으로 공연비 낮게 설정???"
   ]
  },
  {
   "cell_type": "code",
   "execution_count": 50,
   "metadata": {},
   "outputs": [
    {
     "data": {
      "text/plain": [
       "Index(['S49349-1', 'S49351-1', 'S49352-1', 'S49674-1', 'S50178-1', 'S51382-1',\n",
       "       'S51509-1', 'S51516-1', 'S51637-1', 'S51697-1', 'S52151-1', 'S52591-1',\n",
       "       'S54318-1', 'S57551-1', 'S57553-1', 'S57655-1', 'S57719-1', 'S58327-1',\n",
       "       'S59094-1', 'S59269-1', 'S59415-1', 'S60086-1', 'S60093-1', 'S60531-1',\n",
       "       'S60585-1', 'S61400-1', 'S61778-1', 'S62045-1', 'S62227-1', 'S62438-1',\n",
       "       'S62536-1', 'S62730-1', 'S62731-1', 'S62742-1', 'S62854-1', 'S62855-1',\n",
       "       'S62858-1', 'S63043-1'],\n",
       "      dtype='object', name='Batch')"
      ]
     },
     "execution_count": 50,
     "metadata": {},
     "output_type": "execute_result"
    }
   ],
   "source": [
    "summary3[summary3['perf']>7.2].index.unique()"
   ]
  },
  {
   "cell_type": "code",
   "execution_count": 83,
   "metadata": {},
   "outputs": [
    {
     "data": {
      "text/plain": [
       "Index(['S53898-1', 'S56848-1', 'S57011-1', 'S57096-1', 'S57097-1', 'S57812-1',\n",
       "       'S59177-1', 'S59863-1', 'S60319-1'],\n",
       "      dtype='object', name='Batch')"
      ]
     },
     "execution_count": 83,
     "metadata": {},
     "output_type": "execute_result"
    }
   ],
   "source": [
    "summary3[summary3['perf']<3.5].index.unique()"
   ]
  },
  {
   "cell_type": "code",
   "execution_count": 82,
   "metadata": {},
   "outputs": [
    {
     "name": "stdout",
     "output_type": "stream",
     "text": [
      "lapse time(min) to reach 950 :  50\n"
     ]
    },
    {
     "data": {
      "text/plain": [
       "[]"
      ]
     },
     "execution_count": 82,
     "metadata": {},
     "output_type": "execute_result"
    },
    {
     "data": {
      "image/png": "[encoded data removed]",
      "text/plain": [
       "<Figure size 720x288 with 2 Axes>"
      ]
     },
     "metadata": {
      "needs_background": "light"
     },
     "output_type": "display_data"
    }
   ],
   "source": [
    "# batch = summary2.sample(1).index.values[0]\n",
    "batch = 'S50178-1'\n",
    "\n",
    "sample = summary3[summary3.index.isin([batch])].set_index('time')\n",
    "print('lapse time(min) to reach 950 : ', len(sample)*5)\n",
    "\n",
    "#var = 'preheat_dif'\n",
    "var = 'inner_temp_pv'\n",
    "\n",
    "ax = sample['action'].plot(color='red', figsize=(10,4) )\n",
    "ax2 = ax.twinx()\n",
    "ax2 = sample[var].plot(color='blue', style='--', figsize=(10,4))\n",
    "plt.title(str(batch))\n",
    "ax.set_label('airgas ratio')\n",
    "ax2.set_label('inner temp')\n",
    "ax.set_ylim(-1,5)\n",
    "plt.plot()"
   ]
  },
  {
   "cell_type": "code",
   "execution_count": 85,
   "metadata": {},
   "outputs": [
    {
     "name": "stdout",
     "output_type": "stream",
     "text": [
      "lapse time(min) to reach 950 :  90\n"
     ]
    },
    {
     "data": {
      "text/plain": [
       "[]"
      ]
     },
     "execution_count": 85,
     "metadata": {},
     "output_type": "execute_result"
    },
    {
     "data": {
      "image/png": "[encoded data removed]",
      "text/plain": [
       "<Figure size 720x288 with 2 Axes>"
      ]
     },
     "metadata": {
      "needs_background": "light"
     },
     "output_type": "display_data"
    }
   ],
   "source": [
    "# batch = summary2.sample(1).index.values[0]\n",
    "batch = 'S53898-1'\n",
    "\n",
    "sample = summary3[summary3.index.isin([batch])].set_index('time')\n",
    "print('lapse time(min) to reach 950 : ', len(sample)*5)\n",
    "\n",
    "#var = 'preheat_dif'\n",
    "var = 'inner_temp_pv'\n",
    "\n",
    "ax = sample['action'].plot(color='red', figsize=(10,4) )\n",
    "ax2 = ax.twinx()\n",
    "ax2 = sample[var].plot(color='blue', style='--', figsize=(10,4))\n",
    "plt.title(str(batch))\n",
    "ax.set_label('airgas ratio')\n",
    "ax2.set_label('inner temp')\n",
    "ax.set_ylim(-1,5)\n",
    "plt.plot()"
   ]
  },
  {
   "cell_type": "markdown",
   "metadata": {},
   "source": [
    "- ### Transition Function"
   ]
  },
  {
   "cell_type": "code",
   "execution_count": 108,
   "metadata": {},
   "outputs": [
    {
     "data": {
      "text/plain": [
       "10874"
      ]
     },
     "execution_count": 108,
     "metadata": {},
     "output_type": "execute_result"
    }
   ],
   "source": [
    "pd.options.display.float_format = \"{:,.2f}\".format\n",
    "input_data = summary3[['input_hard','pre_heated_air_temp','inner_press_pv','inner_temp_pv','airgas_ratio','action','time']]\n",
    "len(input_data)"
   ]
  },
  {
   "cell_type": "code",
   "execution_count": 109,
   "metadata": {},
   "outputs": [],
   "source": [
    "# Create target features (delta)\n",
    "input_data['preheat_delta'] = input_data.groupby('Batch')['pre_heated_air_temp'].transform(lambda x: x.shift(-1) - x)\n",
    "input_data['temp_delta'] = input_data.groupby('Batch')['inner_temp_pv'].transform(lambda x: x.shift(-1) - x)\n",
    "input_data['pressure_delta'] = input_data.groupby('Batch')['inner_press_pv'].transform(lambda x: x.shift(-1) - x)\n",
    "input_data.dropna(inplace=True)\n",
    "\n",
    "# Create X\n",
    "\n",
    "from sklearn import preprocessing\n",
    "input_features = ['pre_heated_air_temp','inner_press_pv', 'inner_temp_pv', 'input_hard', 'action']\n",
    "output_features = ['preheat_delta','pressure_delta','temp_delta']\n",
    "feature_list = input_features + output_features\n",
    "\n",
    "X_scaler = preprocessing.StandardScaler()\n",
    "Y_scaler = preprocessing.StandardScaler()\n",
    "X_std = X_scaler.fit_transform(input_data[input_features])\n",
    "Y_std = Y_scaler.fit_transform(input_data[output_features])\n"
   ]
  },
  {
   "cell_type": "code",
   "execution_count": 110,
   "metadata": {},
   "outputs": [],
   "source": [
    "with open(\"x_scaler\", \"wb\") as file:\n",
    "    pickle.dump(X_scaler, file)\n",
    "    \n",
    "with open(\"y_scaler\", \"wb\") as file:\n",
    "    pickle.dump(Y_scaler, file)    "
   ]
  },
  {
   "cell_type": "code",
   "execution_count": 111,
   "metadata": {},
   "outputs": [],
   "source": [
    "with open('x_scaler', 'rb') as file:\n",
    "    X_scaler = pickle.load(file)\n",
    "    \n",
    "with open('y_scaler', 'rb') as file:\n",
    "    Y_scaler = pickle.load(file)    "
   ]
  },
  {
   "cell_type": "code",
   "execution_count": 112,
   "metadata": {},
   "outputs": [],
   "source": [
    "input_data[['pre_heated_air_temp','inner_press_pv', 'inner_temp_pv', 'input_hard', 'action','time']].head()\n",
    "input_data.to_pickle('input_data.pkl')"
   ]
  },
  {
   "cell_type": "code",
   "execution_count": 113,
   "metadata": {},
   "outputs": [
    {
     "name": "stdout",
     "output_type": "stream",
     "text": [
      "(10022, 5) (10022, 3)\n"
     ]
    }
   ],
   "source": [
    "print(X_std.shape, Y_std.shape)"
   ]
  },
  {
   "cell_type": "code",
   "execution_count": 114,
   "metadata": {},
   "outputs": [
    {
     "data": {
      "text/plain": [
       "(10022, 8)"
      ]
     },
     "execution_count": 114,
     "metadata": {},
     "output_type": "execute_result"
    }
   ],
   "source": [
    "np.hstack((X_std, Y_std)).shape"
   ]
  },
  {
   "cell_type": "code",
   "execution_count": 115,
   "metadata": {},
   "outputs": [],
   "source": [
    "import torch\n",
    "import torchvision\n",
    "\n",
    "import torch.nn as nn\n",
    "import torch.nn.functional as F \n",
    "import torch.optim as optim\n",
    "import torch.nn.init as init\n",
    "\n",
    "from torch.utils.data import DataLoader, Dataset "
   ]
  },
  {
   "cell_type": "code",
   "execution_count": 116,
   "metadata": {},
   "outputs": [],
   "source": [
    "\n",
    "class Net(nn.Module):\n",
    "    def __init__(self):\n",
    "        super(Net, self).__init__()\n",
    "        self.fc1 = nn.Linear(5, 64)\n",
    "        self.fc2 = nn.Linear(64, 128)   \n",
    "        self.fc3 = nn.Linear(128, 3)\n",
    "        self.dropout_prob = 0.3\n",
    "        self.batch_norm1 = nn.BatchNorm1d(64)\n",
    "        self.batch_norm2 = nn.BatchNorm1d(128)        \n",
    "\n",
    "    def forward(self, x): \n",
    "        x = self.fc1(x)\n",
    "        x = self.batch_norm1(x)\n",
    "        x = F.relu(x)\n",
    "        x = F.dropout(x, training=self.training, p = self.dropout_prob)        \n",
    "        \n",
    "        x = self.fc2(x)\n",
    "        x = self.batch_norm2(x)\n",
    "        x = F.relu(x)\n",
    "        x = F.dropout(x, training=self.training, p = self.dropout_prob)                               \n",
    "        \n",
    "        x = self.fc3(x)\n",
    "        return x"
   ]
  },
  {
   "cell_type": "code",
   "execution_count": 117,
   "metadata": {},
   "outputs": [
    {
     "name": "stdout",
     "output_type": "stream",
     "text": [
      "    0 :  1.3721\n",
      "  100 :  0.7159\n",
      "  200 :  0.7042\n",
      "  300 :  0.7017\n",
      "  400 :  0.7030\n",
      "  500 :  0.7000\n",
      "  600 :  0.6994\n"
     ]
    }
   ],
   "source": [
    "def weight_init(m):\n",
    "    if isinstance(m, nn.Linear):\n",
    "        init.kaiming_uniform(m.weight.data)\n",
    "\n",
    "model = Net()\n",
    "model.apply(weight_init)\n",
    "\n",
    "\n",
    "class TensorData(Dataset):\n",
    "\n",
    "    def __init__(self, x_data, y_data):\n",
    "        self.x_data = torch.FloatTensor(x_data)\n",
    "        self.y_data = torch.FloatTensor(y_data)\n",
    "        self.len = self.y_data.shape[0]\n",
    "\n",
    "    def __getitem__(self, index):\n",
    "\n",
    "        return self.x_data[index], self.y_data[index] \n",
    "\n",
    "    def __len__(self):\n",
    "        return self.len\n",
    "\n",
    "trainsets = TensorData(X_std, Y_std)    \n",
    "trainloader = torch.utils.data.DataLoader(trainsets, batch_size = 32, shuffle = True, drop_last=True)\n",
    "\n",
    "\n",
    "LEARNING_RATE = 0.0005\n",
    "loss_list = [] # loss를 저장할 리스트.\n",
    "n = len(trainloader)\n",
    "\n",
    "criterion = torch.nn.MSELoss()\n",
    "optimizer = optim.Adam(model.parameters(), lr=LEARNING_RATE ) \n",
    "\n",
    "for epoch in range(1000):\n",
    "\n",
    "    running_loss = 0.0 # 한 에폭이 돌 때 그안에서 배치마다 loss가 나온다. 즉 한번 학습할 때 그렇게 쪼개지면서 loss가 다 나오니 MSE를 구하기 위해서 사용한다.\n",
    "\n",
    "    for i, data in enumerate(trainloader, 0): # 무작위로 섞인 32개의 데이터가 담긴 배치가 하나씩 들어온다.\n",
    "\n",
    "        inputs, values = data # data에는 X, Y가 들어있다.\n",
    "\n",
    "        optimizer.zero_grad() # 최적화 초기화.\n",
    "\n",
    "        outputs = model(inputs) # 모델에 입력값을 넣어 예측값을 산출한다.\n",
    "        loss = criterion(outputs, values) # 손실함수를 계산. error 계산.\n",
    "        loss.backward() # 손실 함수를 기준으로 역전파를 설정한다.\n",
    "        optimizer.step() # 역전파를 진행하고 가중치를 업데이트한다.\n",
    "\n",
    "        running_loss += loss.item() # epoch 마다 평균 loss를 계산하기 위해 배치 loss를 더한다.\n",
    "\n",
    "        loss_list.append(running_loss/n) # MSE(Mean Squared Error) 계산                \n",
    "\n",
    "    \n",
    "    if epoch % 100 == 0:\n",
    "        print(f'{epoch: 5d} : { pd.Series(loss_list).tail(10).mean(): 5.4f}')\n",
    "        \n",
    "    if (running_loss/n) < 0.7:\n",
    "        break        \n"
   ]
  },
  {
   "cell_type": "code",
   "execution_count": 119,
   "metadata": {},
   "outputs": [
    {
     "data": {
      "text/plain": [
       "Net(\n",
       "  (fc1): Linear(in_features=5, out_features=64, bias=True)\n",
       "  (fc2): Linear(in_features=64, out_features=128, bias=True)\n",
       "  (fc3): Linear(in_features=128, out_features=3, bias=True)\n",
       "  (batch_norm1): BatchNorm1d(64, eps=1e-05, momentum=0.1, affine=True, track_running_stats=True)\n",
       "  (batch_norm2): BatchNorm1d(128, eps=1e-05, momentum=0.1, affine=True, track_running_stats=True)\n",
       ")"
      ]
     },
     "execution_count": 119,
     "metadata": {},
     "output_type": "execute_result"
    }
   ],
   "source": [
    "# Save the final model\n",
    "# torch.save(model.state_dict(), 'transition.pt')\n",
    "model_weights = torch.load('transition.pt')\n",
    "model = Net()\n",
    "model.load_state_dict(model_weights)\n",
    "model.eval()"
   ]
  },
  {
   "cell_type": "code",
   "execution_count": 120,
   "metadata": {},
   "outputs": [
    {
     "name": "stdout",
     "output_type": "stream",
     "text": [
      "torch.Size([1, 5])\n"
     ]
    },
    {
     "data": {
      "text/plain": [
       "tensor([[-1.4875, -0.2250,  0.0448]], grad_fn=<AddmmBackward0>)"
      ]
     },
     "execution_count": 120,
     "metadata": {},
     "output_type": "execute_result"
    }
   ],
   "source": [
    "X = torch.FloatTensor(X_std[:1])\n",
    "print(X.shape)\n",
    "model(X)"
   ]
  },
  {
   "cell_type": "code",
   "execution_count": 121,
   "metadata": {},
   "outputs": [
    {
     "data": {
      "text/plain": [
       "array([[-1.6815876 , -0.82177235,  0.98917303]])"
      ]
     },
     "execution_count": 121,
     "metadata": {},
     "output_type": "execute_result"
    }
   ],
   "source": [
    "Y_std[:1]\n"
   ]
  },
  {
   "cell_type": "code",
   "execution_count": 122,
   "metadata": {},
   "outputs": [
    {
     "data": {
      "text/plain": [
       "0.0022746571348547886"
      ]
     },
     "execution_count": 122,
     "metadata": {},
     "output_type": "execute_result"
    }
   ],
   "source": [
    "# Gausian noise\n",
    "s = np.random.normal(0, 0.2, 10000)\n",
    "pd.Series(s).mean()"
   ]
  },
  {
   "cell_type": "code",
   "execution_count": 123,
   "metadata": {},
   "outputs": [
    {
     "data": {
      "text/html": [
       "<div>\n",
       "<style scoped>\n",
       "    .dataframe tbody tr th:only-of-type {\n",
       "        vertical-align: middle;\n",
       "    }\n",
       "\n",
       "    .dataframe tbody tr th {\n",
       "        vertical-align: top;\n",
       "    }\n",
       "\n",
       "    .dataframe thead th {\n",
       "        text-align: right;\n",
       "    }\n",
       "</style>\n",
       "<table border=\"1\" class=\"dataframe\">\n",
       "  <thead>\n",
       "    <tr style=\"text-align: right;\">\n",
       "      <th></th>\n",
       "      <th>pre_heated_air_temp</th>\n",
       "      <th>inner_press_pv</th>\n",
       "      <th>inner_temp_pv</th>\n",
       "      <th>input_hard</th>\n",
       "      <th>action</th>\n",
       "    </tr>\n",
       "    <tr>\n",
       "      <th>Batch</th>\n",
       "      <th></th>\n",
       "      <th></th>\n",
       "      <th></th>\n",
       "      <th></th>\n",
       "      <th></th>\n",
       "    </tr>\n",
       "  </thead>\n",
       "  <tbody>\n",
       "    <tr>\n",
       "      <th>S49137-1</th>\n",
       "      <td>166.88</td>\n",
       "      <td>7.84</td>\n",
       "      <td>777.04</td>\n",
       "      <td>18.00</td>\n",
       "      <td>4</td>\n",
       "    </tr>\n",
       "    <tr>\n",
       "      <th>S49137-1</th>\n",
       "      <td>165.70</td>\n",
       "      <td>5.99</td>\n",
       "      <td>799.60</td>\n",
       "      <td>18.00</td>\n",
       "      <td>0</td>\n",
       "    </tr>\n",
       "    <tr>\n",
       "      <th>S49137-1</th>\n",
       "      <td>166.58</td>\n",
       "      <td>7.43</td>\n",
       "      <td>818.94</td>\n",
       "      <td>18.00</td>\n",
       "      <td>0</td>\n",
       "    </tr>\n",
       "    <tr>\n",
       "      <th>S49137-1</th>\n",
       "      <td>168.99</td>\n",
       "      <td>9.48</td>\n",
       "      <td>839.72</td>\n",
       "      <td>18.00</td>\n",
       "      <td>0</td>\n",
       "    </tr>\n",
       "    <tr>\n",
       "      <th>S49137-1</th>\n",
       "      <td>172.08</td>\n",
       "      <td>6.29</td>\n",
       "      <td>854.13</td>\n",
       "      <td>18.00</td>\n",
       "      <td>0</td>\n",
       "    </tr>\n",
       "    <tr>\n",
       "      <th>S49137-1</th>\n",
       "      <td>174.57</td>\n",
       "      <td>0.82</td>\n",
       "      <td>866.20</td>\n",
       "      <td>18.00</td>\n",
       "      <td>4</td>\n",
       "    </tr>\n",
       "    <tr>\n",
       "      <th>S49137-1</th>\n",
       "      <td>177.88</td>\n",
       "      <td>3.69</td>\n",
       "      <td>867.75</td>\n",
       "      <td>18.00</td>\n",
       "      <td>1</td>\n",
       "    </tr>\n",
       "    <tr>\n",
       "      <th>S49137-1</th>\n",
       "      <td>180.84</td>\n",
       "      <td>4.71</td>\n",
       "      <td>895.07</td>\n",
       "      <td>18.00</td>\n",
       "      <td>0</td>\n",
       "    </tr>\n",
       "    <tr>\n",
       "      <th>S49137-1</th>\n",
       "      <td>184.70</td>\n",
       "      <td>4.91</td>\n",
       "      <td>916.80</td>\n",
       "      <td>18.00</td>\n",
       "      <td>1</td>\n",
       "    </tr>\n",
       "    <tr>\n",
       "      <th>S49137-1</th>\n",
       "      <td>188.93</td>\n",
       "      <td>4.79</td>\n",
       "      <td>932.31</td>\n",
       "      <td>18.00</td>\n",
       "      <td>0</td>\n",
       "    </tr>\n",
       "  </tbody>\n",
       "</table>\n",
       "</div>"
      ],
      "text/plain": [
       "          pre_heated_air_temp  inner_press_pv  inner_temp_pv  input_hard  \\\n",
       "Batch                                                                      \n",
       "S49137-1               166.88            7.84         777.04       18.00   \n",
       "S49137-1               165.70            5.99         799.60       18.00   \n",
       "S49137-1               166.58            7.43         818.94       18.00   \n",
       "S49137-1               168.99            9.48         839.72       18.00   \n",
       "S49137-1               172.08            6.29         854.13       18.00   \n",
       "S49137-1               174.57            0.82         866.20       18.00   \n",
       "S49137-1               177.88            3.69         867.75       18.00   \n",
       "S49137-1               180.84            4.71         895.07       18.00   \n",
       "S49137-1               184.70            4.91         916.80       18.00   \n",
       "S49137-1               188.93            4.79         932.31       18.00   \n",
       "\n",
       "          action  \n",
       "Batch             \n",
       "S49137-1       4  \n",
       "S49137-1       0  \n",
       "S49137-1       0  \n",
       "S49137-1       0  \n",
       "S49137-1       0  \n",
       "S49137-1       4  \n",
       "S49137-1       1  \n",
       "S49137-1       0  \n",
       "S49137-1       1  \n",
       "S49137-1       0  "
      ]
     },
     "execution_count": 123,
     "metadata": {},
     "output_type": "execute_result"
    }
   ],
   "source": [
    "input_data[input_features].head(10)"
   ]
  },
  {
   "cell_type": "code",
   "execution_count": 124,
   "metadata": {},
   "outputs": [
    {
     "name": "stdout",
     "output_type": "stream",
     "text": [
      "[[166.8847961    7.83920145 777.0363159   18.           4.        ]]\n",
      "1 [168.18447073   7.15409458 792.34469603  18.           0.        ]\n",
      "2 [169.78311248   6.53523385 808.12594126  18.           0.        ]\n",
      "3 [171.71765919   5.9895013  824.0921192   18.           0.        ]\n",
      "4 [174.04246469   5.45498854 840.30488585  18.           0.        ]\n",
      "5 [176.70605536   4.94249201 856.70104597  18.           0.        ]\n",
      "6 [179.71902056   4.49866345 873.1588764   18.           0.        ]\n",
      "7 [183.23974963   4.1555537  889.72469137  18.           0.        ]\n",
      "8 [187.08798953   3.88659203 906.30276869  18.           0.        ]\n",
      "9 [191.06995721   3.67631128 922.6735153   18.           0.        ]\n",
      "10 [195.103157     3.51769954 938.47699354  18.           0.        ]\n",
      "11 [198.89212342   3.22270644 950.44269274  18.           0.        ]\n"
     ]
    }
   ],
   "source": [
    "from sklearn import preprocessing\n",
    "X_test = np.array(input_data[input_features][:1])\n",
    "print(X_test)\n",
    "\n",
    "X_test[0][4] = 0\n",
    "\n",
    "cnt = 0\n",
    "while True:\n",
    "    cnt += 1\n",
    "    Yhat = model(torch.FloatTensor(X_scaler.transform(X_test)))\n",
    "    delta = Y_scaler.inverse_transform(Yhat.detach().numpy())\n",
    "    delta = np.append(delta, [[0, 0]])\n",
    "    X_test = pd.DataFrame(np.array(X_test) + (delta))\n",
    "    print(cnt, np.array(X_test).flatten())\n",
    "    if X_test[2].item()>950:\n",
    "        \n",
    "        break\n",
    "        \n",
    "# print(np.array(X_test))\n",
    "# print('\\n')\n",
    "# print(np.array(X_test.add(delta)))\n",
    "\n",
    "# scaler = preprocessing.StandardScaler()\n",
    "# X_std = scaler.fit_transform(input_data[input_features])\n",
    "# Y_std = scaler.fit_transform(input_data[output_features])\n"
   ]
  },
  {
   "cell_type": "code",
   "execution_count": null,
   "metadata": {},
   "outputs": [],
   "source": []
  }
 ],
 "metadata": {
  "kernelspec": {
   "display_name": "Python 3",
   "language": "python",
   "name": "python3"
  },
  "language_info": {
   "codemirror_mode": {
    "name": "ipython",
    "version": 3
   },
   "file_extension": ".py",
   "mimetype": "text/x-python",
   "name": "python",
   "nbconvert_exporter": "python",
   "pygments_lexer": "ipython3",
   "version": "3.8.5"
  }
 },
 "nbformat": 4,
 "nbformat_minor": 4
}
