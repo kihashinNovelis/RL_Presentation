{
 "cells": [
  {
   "cell_type": "markdown",
   "metadata": {},
   "source": [
    "### Transition Model"
   ]
  },
  {
   "cell_type": "code",
   "execution_count": 1,
   "metadata": {},
   "outputs": [],
   "source": [
    "import pandas as pd\n",
    "import numpy as np\n",
    "import os\n",
    "import pickle\n",
    "import matplotlib\n",
    "import matplotlib.pyplot as plt\n",
    "%matplotlib inline  \n",
    "import random\n",
    "\n",
    "import warnings\n",
    "warnings.filterwarnings(\"ignore\")"
   ]
  },
  {
   "cell_type": "code",
   "execution_count": 2,
   "metadata": {},
   "outputs": [
    {
     "name": "stdout",
     "output_type": "stream",
     "text": [
      "C:\\Users\\shinki\\OneDrive - Novelis Inc\\Documents\\Data Science\\10. Learning\\7b. Use Case\n"
     ]
    }
   ],
   "source": [
    "path = os.path.dirname(os.getcwd())\n",
    "print(path)"
   ]
  },
  {
   "cell_type": "code",
   "execution_count": 3,
   "metadata": {},
   "outputs": [
    {
     "name": "stdout",
     "output_type": "stream",
     "text": [
      "3827\n"
     ]
    },
    {
     "data": {
      "text/html": [
       "<div>\n",
       "<style scoped>\n",
       "    .dataframe tbody tr th:only-of-type {\n",
       "        vertical-align: middle;\n",
       "    }\n",
       "\n",
       "    .dataframe tbody tr th {\n",
       "        vertical-align: top;\n",
       "    }\n",
       "\n",
       "    .dataframe thead th {\n",
       "        text-align: right;\n",
       "    }\n",
       "</style>\n",
       "<table border=\"1\" class=\"dataframe\">\n",
       "  <thead>\n",
       "    <tr style=\"text-align: right;\">\n",
       "      <th></th>\n",
       "      <th>Batch</th>\n",
       "      <th>after_20min</th>\n",
       "      <th>skimm_start_time</th>\n",
       "      <th>Time_9hour</th>\n",
       "      <th>melting_cycle</th>\n",
       "      <th>skimm_time</th>\n",
       "      <th>airgas_ratio</th>\n",
       "      <th>inner_temp_pv</th>\n",
       "      <th>pre_heated_air_temp</th>\n",
       "      <th>inner_press_pv</th>\n",
       "      <th>Melter</th>\n",
       "      <th>ALLOY</th>\n",
       "      <th>input_total</th>\n",
       "      <th>Prime</th>\n",
       "      <th>Scrap</th>\n",
       "      <th>R S I</th>\n",
       "      <th>molten(%)</th>\n",
       "    </tr>\n",
       "    <tr>\n",
       "      <th>time</th>\n",
       "      <th></th>\n",
       "      <th></th>\n",
       "      <th></th>\n",
       "      <th></th>\n",
       "      <th></th>\n",
       "      <th></th>\n",
       "      <th></th>\n",
       "      <th></th>\n",
       "      <th></th>\n",
       "      <th></th>\n",
       "      <th></th>\n",
       "      <th></th>\n",
       "      <th></th>\n",
       "      <th></th>\n",
       "      <th></th>\n",
       "      <th></th>\n",
       "      <th></th>\n",
       "    </tr>\n",
       "  </thead>\n",
       "  <tbody>\n",
       "    <tr>\n",
       "      <th>2020-12-01 10:25:19</th>\n",
       "      <td>S49135</td>\n",
       "      <td>2020-12-01 10:25:19.000000</td>\n",
       "      <td>2020-12-01 11:53:19.000000</td>\n",
       "      <td>2020-12-01 10:25:19.000000</td>\n",
       "      <td>20</td>\n",
       "      <td>0</td>\n",
       "      <td>13.145866</td>\n",
       "      <td>848.317810</td>\n",
       "      <td>144.760422</td>\n",
       "      <td>7.616525</td>\n",
       "      <td>Melter_4</td>\n",
       "      <td>K3104</td>\n",
       "      <td>27350.0</td>\n",
       "      <td>0.0</td>\n",
       "      <td>18350.0</td>\n",
       "      <td>2000.0</td>\n",
       "      <td>25.59415</td>\n",
       "    </tr>\n",
       "    <tr>\n",
       "      <th>2020-12-01 10:26:19</th>\n",
       "      <td>S49135</td>\n",
       "      <td>2020-12-01 10:25:19.000000</td>\n",
       "      <td>2020-12-01 11:53:19.000000</td>\n",
       "      <td>2020-12-01 10:26:19.000000</td>\n",
       "      <td>21</td>\n",
       "      <td>0</td>\n",
       "      <td>13.055079</td>\n",
       "      <td>850.828369</td>\n",
       "      <td>145.580154</td>\n",
       "      <td>6.591865</td>\n",
       "      <td>Melter_4</td>\n",
       "      <td>K3104</td>\n",
       "      <td>27350.0</td>\n",
       "      <td>0.0</td>\n",
       "      <td>18350.0</td>\n",
       "      <td>2000.0</td>\n",
       "      <td>25.59415</td>\n",
       "    </tr>\n",
       "    <tr>\n",
       "      <th>2020-12-01 10:27:19</th>\n",
       "      <td>S49135</td>\n",
       "      <td>2020-12-01 10:25:19.000000</td>\n",
       "      <td>2020-12-01 11:53:19.000000</td>\n",
       "      <td>2020-12-01 10:27:19.000000</td>\n",
       "      <td>22</td>\n",
       "      <td>0</td>\n",
       "      <td>13.104210</td>\n",
       "      <td>856.758484</td>\n",
       "      <td>146.337677</td>\n",
       "      <td>6.709642</td>\n",
       "      <td>Melter_4</td>\n",
       "      <td>K3104</td>\n",
       "      <td>27350.0</td>\n",
       "      <td>0.0</td>\n",
       "      <td>18350.0</td>\n",
       "      <td>2000.0</td>\n",
       "      <td>25.59415</td>\n",
       "    </tr>\n",
       "    <tr>\n",
       "      <th>2020-12-01 10:28:19</th>\n",
       "      <td>S49135</td>\n",
       "      <td>2020-12-01 10:25:19.000000</td>\n",
       "      <td>2020-12-01 11:53:19.000000</td>\n",
       "      <td>2020-12-01 10:28:19.000000</td>\n",
       "      <td>23</td>\n",
       "      <td>0</td>\n",
       "      <td>13.115610</td>\n",
       "      <td>862.793091</td>\n",
       "      <td>147.024734</td>\n",
       "      <td>7.128538</td>\n",
       "      <td>Melter_4</td>\n",
       "      <td>K3104</td>\n",
       "      <td>27350.0</td>\n",
       "      <td>0.0</td>\n",
       "      <td>18350.0</td>\n",
       "      <td>2000.0</td>\n",
       "      <td>25.59415</td>\n",
       "    </tr>\n",
       "    <tr>\n",
       "      <th>2020-12-01 10:29:19</th>\n",
       "      <td>S49135</td>\n",
       "      <td>2020-12-01 10:25:19.000000</td>\n",
       "      <td>2020-12-01 11:53:19.000000</td>\n",
       "      <td>2020-12-01 10:29:19.000000</td>\n",
       "      <td>24</td>\n",
       "      <td>0</td>\n",
       "      <td>12.980279</td>\n",
       "      <td>868.736816</td>\n",
       "      <td>148.164230</td>\n",
       "      <td>2.782887</td>\n",
       "      <td>Melter_4</td>\n",
       "      <td>K3104</td>\n",
       "      <td>27350.0</td>\n",
       "      <td>0.0</td>\n",
       "      <td>18350.0</td>\n",
       "      <td>2000.0</td>\n",
       "      <td>25.59415</td>\n",
       "    </tr>\n",
       "  </tbody>\n",
       "</table>\n",
       "</div>"
      ],
      "text/plain": [
       "                      Batch                 after_20min  \\\n",
       "time                                                      \n",
       "2020-12-01 10:25:19  S49135  2020-12-01 10:25:19.000000   \n",
       "2020-12-01 10:26:19  S49135  2020-12-01 10:25:19.000000   \n",
       "2020-12-01 10:27:19  S49135  2020-12-01 10:25:19.000000   \n",
       "2020-12-01 10:28:19  S49135  2020-12-01 10:25:19.000000   \n",
       "2020-12-01 10:29:19  S49135  2020-12-01 10:25:19.000000   \n",
       "\n",
       "                               skimm_start_time                  Time_9hour  \\\n",
       "time                                                                          \n",
       "2020-12-01 10:25:19  2020-12-01 11:53:19.000000  2020-12-01 10:25:19.000000   \n",
       "2020-12-01 10:26:19  2020-12-01 11:53:19.000000  2020-12-01 10:26:19.000000   \n",
       "2020-12-01 10:27:19  2020-12-01 11:53:19.000000  2020-12-01 10:27:19.000000   \n",
       "2020-12-01 10:28:19  2020-12-01 11:53:19.000000  2020-12-01 10:28:19.000000   \n",
       "2020-12-01 10:29:19  2020-12-01 11:53:19.000000  2020-12-01 10:29:19.000000   \n",
       "\n",
       "                     melting_cycle  skimm_time  airgas_ratio  inner_temp_pv  \\\n",
       "time                                                                          \n",
       "2020-12-01 10:25:19             20           0     13.145866     848.317810   \n",
       "2020-12-01 10:26:19             21           0     13.055079     850.828369   \n",
       "2020-12-01 10:27:19             22           0     13.104210     856.758484   \n",
       "2020-12-01 10:28:19             23           0     13.115610     862.793091   \n",
       "2020-12-01 10:29:19             24           0     12.980279     868.736816   \n",
       "\n",
       "                     pre_heated_air_temp  inner_press_pv    Melter  ALLOY  \\\n",
       "time                                                                        \n",
       "2020-12-01 10:25:19           144.760422        7.616525  Melter_4  K3104   \n",
       "2020-12-01 10:26:19           145.580154        6.591865  Melter_4  K3104   \n",
       "2020-12-01 10:27:19           146.337677        6.709642  Melter_4  K3104   \n",
       "2020-12-01 10:28:19           147.024734        7.128538  Melter_4  K3104   \n",
       "2020-12-01 10:29:19           148.164230        2.782887  Melter_4  K3104   \n",
       "\n",
       "                     input_total  Prime   Scrap   R S I    molten(%)  \n",
       "time                                                                  \n",
       "2020-12-01 10:25:19      27350.0    0.0  18350.0   2000.0   25.59415  \n",
       "2020-12-01 10:26:19      27350.0    0.0  18350.0   2000.0   25.59415  \n",
       "2020-12-01 10:27:19      27350.0    0.0  18350.0   2000.0   25.59415  \n",
       "2020-12-01 10:28:19      27350.0    0.0  18350.0   2000.0   25.59415  \n",
       "2020-12-01 10:29:19      27350.0    0.0  18350.0   2000.0   25.59415  "
      ]
     },
     "execution_count": 3,
     "metadata": {},
     "output_type": "execute_result"
    }
   ],
   "source": [
    "data = pd.read_pickle('C:\\\\Users\\\\shinki\\\\OneDrive - Novelis Inc\\\\Documents\\\\Data Science\\\\10. Learning\\\\7b. Use Case\\\\Data\\\\airgas_sample_for_RNF2.pickle')\n",
    "print(data['Batch'].nunique())\n",
    "data.rename(columns={'Air_gas_ratio_pv':'airgas_ratio', 'Total 장입량': 'input_total'}, inplace=True) # 컬럼이름 변경\n",
    "data['time'] = pd.to_datetime(data['Time_9hour'], errors='raise') # Datetime 으로 변경\n",
    "data.set_index('time', inplace=True)\n",
    "data.head()"
   ]
  },
  {
   "cell_type": "code",
   "execution_count": 4,
   "metadata": {},
   "outputs": [
    {
     "name": "stdout",
     "output_type": "stream",
     "text": [
      "<class 'pandas.core.frame.DataFrame'>\n",
      "DatetimeIndex: 320672 entries, 2020-12-01 10:25:19 to 2021-08-31 22:41:01\n",
      "Data columns (total 17 columns):\n",
      " #   Column               Non-Null Count   Dtype  \n",
      "---  ------               --------------   -----  \n",
      " 0   Batch                320672 non-null  object \n",
      " 1   after_20min          320672 non-null  object \n",
      " 2   skimm_start_time     320672 non-null  object \n",
      " 3   Time_9hour           320672 non-null  object \n",
      " 4   melting_cycle        320672 non-null  int64  \n",
      " 5   skimm_time           320672 non-null  int64  \n",
      " 6   airgas_ratio         320672 non-null  float64\n",
      " 7   inner_temp_pv        320672 non-null  float64\n",
      " 8   pre_heated_air_temp  320672 non-null  float64\n",
      " 9   inner_press_pv       320672 non-null  float64\n",
      " 10  Melter               312673 non-null  object \n",
      " 11  ALLOY                312673 non-null  object \n",
      " 12  input_total          312673 non-null  float64\n",
      " 13  Prime                312673 non-null  float64\n",
      " 14  Scrap                312673 non-null  float64\n",
      " 15  R S I                312673 non-null  float64\n",
      " 16  molten(%)            312673 non-null  float64\n",
      "dtypes: float64(9), int64(2), object(6)\n",
      "memory usage: 44.0+ MB\n"
     ]
    }
   ],
   "source": [
    "data.info()"
   ]
  },
  {
   "cell_type": "code",
   "execution_count": 6,
   "metadata": {},
   "outputs": [
    {
     "name": "stdout",
     "output_type": "stream",
     "text": [
      "count    21642.000000\n",
      "mean        13.429720\n",
      "std          5.261278\n",
      "min          1.000000\n",
      "5%           7.000000\n",
      "10%          8.000000\n",
      "15%          9.000000\n",
      "50%         13.000000\n",
      "85%         17.000000\n",
      "90%         19.000000\n",
      "95%         25.000000\n",
      "max         37.000000\n",
      "Name: count, dtype: float64\n"
     ]
    }
   ],
   "source": [
    "data2 =  data[data['inner_temp_pv'].between(750,950) & (data['Melter']=='Melter_3')] # 멜터 3번만 - 시그널 비교적 안정적\n",
    "# 헌팅을 최소화하기 위해 5분간격 데이터로 변경 - 비어있는 셀이 발생함 나중에 fillna 로 처리. 이렇게 하면 배치 시간의 이중 인덱스로 됨 \n",
    "summary = data2.groupby('Batch').resample('3Min')[['input_total','molten(%)','airgas_ratio','pre_heated_air_temp','inner_press_pv','inner_temp_pv']].median()\n",
    "\n",
    "summary.sort_index(inplace=True)\n",
    "summary.fillna(method='ffill', inplace=True) # 혹시나 빈셀 채워넣음\n",
    "summary.reset_index('time', inplace=True) # 시간 인덱스는 드롭됨 \n",
    "\n",
    "summary['count'] = summary.groupby('Batch').size() # 배치별 길이를 만듦\n",
    "print(summary['count'].describe(percentiles=[0.05, 0.1, 0.15, 0.85, 0.9, 0.95]))\n",
    "summary2 = summary[summary['count'].between(10, 20)] # 너무 짧거나 긴 배치는 제외\n",
    "\n",
    "c1 = summary2.groupby('Batch')['inner_temp_pv'].first().between(740, 780)\n",
    "c2 = summary2.groupby('Batch')['inner_temp_pv'].last().between(930, 970) # 스키밍 시작 전에 끊어야 함\n",
    "\n",
    "summary3 = summary2.loc[c1[c1&c2].index] # 시작온도랑 끝온도가 비슷한 배치만 고름"
   ]
  },
  {
   "cell_type": "code",
   "execution_count": 7,
   "metadata": {},
   "outputs": [
    {
     "data": {
      "text/plain": [
       "count    831.000000\n",
       "mean     759.600529\n",
       "std        7.525295\n",
       "min      750.036133\n",
       "25%      754.058243\n",
       "50%      757.097839\n",
       "75%      763.213791\n",
       "max      779.893677\n",
       "Name: inner_temp_pv, dtype: float64"
      ]
     },
     "execution_count": 7,
     "metadata": {},
     "output_type": "execute_result"
    }
   ],
   "source": [
    "summary3.groupby('Batch')['inner_temp_pv'].first().describe()"
   ]
  },
  {
   "cell_type": "code",
   "execution_count": 8,
   "metadata": {},
   "outputs": [
    {
     "data": {
      "text/plain": [
       "count   10,893.00\n",
       "mean         5.10\n",
       "std          0.97\n",
       "min          2.95\n",
       "25%          4.34\n",
       "50%          5.07\n",
       "75%          5.79\n",
       "max          7.23\n",
       "Name: perf, dtype: float64"
      ]
     },
     "execution_count": 8,
     "metadata": {},
     "output_type": "execute_result"
    }
   ],
   "source": [
    "# 리워드 값을 만들기 위한 데이터 처리\n",
    "summary3['temp_maxmin'] = summary3.groupby('Batch')['inner_temp_pv'].transform(lambda x: x.tail(1) - x.head(1))\n",
    "summary3['time_maxmin'] = summary3.groupby('Batch')['time'].transform(lambda x: x.tail(1) - x.head(1)).dt.total_seconds()/60\n",
    "\n",
    "summary3['input_hard'] = (summary3['input_total']*(1 - summary3['molten(%)']/100))/1000\n",
    "\n",
    "pd.options.display.float_format = \"{:,.2f}\".format\n",
    "summary3['perf'] = (summary3['temp_maxmin']/summary3['time_maxmin'])\n",
    "summary3['perf'].describe()"
   ]
  },
  {
   "cell_type": "code",
   "execution_count": 9,
   "metadata": {},
   "outputs": [
    {
     "data": {
      "text/plain": [
       "count   10,893.00\n",
       "mean        37.60\n",
       "std          7.41\n",
       "min         27.00\n",
       "25%         33.00\n",
       "50%         36.00\n",
       "75%         42.00\n",
       "max         57.00\n",
       "Name: time_maxmin, dtype: float64"
      ]
     },
     "execution_count": 9,
     "metadata": {},
     "output_type": "execute_result"
    }
   ],
   "source": [
    "summary3['time_maxmin'].describe()"
   ]
  },
  {
   "cell_type": "code",
   "execution_count": 10,
   "metadata": {},
   "outputs": [
    {
     "name": "stdout",
     "output_type": "stream",
     "text": [
      "                   min    max\n",
      "airgas_ratio                 \n",
      "(-5.549, 11.553] -5.55  11.55\n",
      "(11.553, 12.506] 11.55  12.51\n",
      "(12.506, 12.736] 12.51  12.74\n",
      "(12.736, 12.79]  12.74  12.79\n",
      "(12.79, 671.621] 12.79 671.62\n",
      "0    3247\n",
      "1     979\n",
      "2     990\n",
      "3    4549\n",
      "4    1128\n",
      "Name: action, dtype: int64\n"
     ]
    }
   ],
   "source": [
    "ranks = pd.qcut(summary3['airgas_ratio'], q=5)\n",
    "print(summary3.groupby(ranks)['airgas_ratio'].agg(['min', 'max']))\n",
    "\n",
    "def div_a(x):\n",
    "    if x < 11.6:\n",
    "        return 0    \n",
    "    elif x < 12.4:        \n",
    "        return 1\n",
    "    elif x < 12.7:        \n",
    "        return 2\n",
    "    elif x < 12.9:        \n",
    "        return 3\n",
    "    else:\n",
    "        return 4\n",
    "    \n",
    "summary3['action'] = summary3['airgas_ratio'].apply(div_a)\n",
    "# summary3['action'] = pd.qcut(summary3['airgas_ratio'], q=5, labels=range(5)).astype('int')\n",
    "print(summary3['action'].value_counts().sort_index())"
   ]
  },
  {
   "cell_type": "code",
   "execution_count": 11,
   "metadata": {},
   "outputs": [
    {
     "name": "stdout",
     "output_type": "stream",
     "text": [
      "count   831.00\n",
      "mean    184.58\n",
      "std       8.35\n",
      "min     159.19\n",
      "1%      163.14\n",
      "5%      167.97\n",
      "50%     186.39\n",
      "95%     195.25\n",
      "max     199.16\n",
      "Name: temp_maxmin, dtype: float64\n",
      "count   831.00\n",
      "mean     36.32\n",
      "std       7.09\n",
      "min      27.00\n",
      "1%       27.00\n",
      "5%       27.00\n",
      "50%      36.00\n",
      "95%      51.00\n",
      "max      57.00\n",
      "Name: time_maxmin, dtype: float64\n"
     ]
    }
   ],
   "source": [
    "print(summary3.groupby('Batch')['temp_maxmin'].max().describe(percentiles=[0.01, 0.05, 0.95]))\n",
    "print(summary3.groupby('Batch')['time_maxmin'].max().describe(percentiles=[0.01, 0.05, 0.95]))"
   ]
  },
  {
   "cell_type": "code",
   "execution_count": 12,
   "metadata": {},
   "outputs": [
    {
     "data": {
      "text/plain": [
       "perf\n",
       "(2.948, 4.236]   2.43\n",
       "(4.236, 4.781]   2.22\n",
       "(4.781, 5.359]   1.71\n",
       "(5.359, 5.963]   1.62\n",
       "(5.963, 7.226]   1.71\n",
       "Name: action, dtype: float64"
      ]
     },
     "execution_count": 12,
     "metadata": {},
     "output_type": "execute_result"
    }
   ],
   "source": [
    "ranks = pd.qcut(summary3['perf'], q = 5)\n",
    "summary3.groupby(ranks)['action'].mean()\n",
    "# > Performance 좋은 경우는 일반적으로 공연비 낮게 설정???"
   ]
  },
  {
   "cell_type": "code",
   "execution_count": 13,
   "metadata": {},
   "outputs": [
    {
     "data": {
      "text/plain": [
       "Index(['S50178-1', 'S51382-1', 'S54318-1', 'S57553-1', 'S61778-1', 'S62855-1'], dtype='object', name='Batch')"
      ]
     },
     "execution_count": 13,
     "metadata": {},
     "output_type": "execute_result"
    }
   ],
   "source": [
    "summary3[summary3['perf']>7.2].index.unique()"
   ]
  },
  {
   "cell_type": "code",
   "execution_count": 16,
   "metadata": {},
   "outputs": [
    {
     "data": {
      "text/plain": [
       "Index(['S52869-1', 'S59265-1'], dtype='object', name='Batch')"
      ]
     },
     "execution_count": 16,
     "metadata": {},
     "output_type": "execute_result"
    }
   ],
   "source": [
    "summary3[summary3['perf']<3.1].index.unique()"
   ]
  },
  {
   "cell_type": "code",
   "execution_count": 282,
   "metadata": {},
   "outputs": [
    {
     "name": "stdout",
     "output_type": "stream",
     "text": [
      "lapse time(min) to reach 950 :  50\n"
     ]
    },
    {
     "data": {
      "text/plain": [
       "[]"
      ]
     },
     "execution_count": 282,
     "metadata": {},
     "output_type": "execute_result"
    },
    {
     "data": {
      "image/png": "[encoded data removed]",
      "text/plain": [
       "<Figure size 720x288 with 2 Axes>"
      ]
     },
     "metadata": {
      "needs_background": "light"
     },
     "output_type": "display_data"
    }
   ],
   "source": [
    "# batch = summary2.sample(1).index.values[0]\n",
    "batch = 'S50178-1'\n",
    "\n",
    "sample = summary3[summary3.index.isin([batch])].set_index('time')\n",
    "print('lapse time(min) to reach 950 : ', len(sample)*5)\n",
    "\n",
    "#var = 'preheat_dif'\n",
    "var = 'inner_temp_pv'\n",
    "\n",
    "ax = sample['action'].plot(color='red', figsize=(10,4) )\n",
    "ax2 = ax.twinx()\n",
    "ax2 = sample[var].plot(color='blue', style='--', figsize=(10,4))\n",
    "plt.title(str(batch))\n",
    "ax.set_label('airgas ratio')\n",
    "ax2.set_label('inner temp')\n",
    "ax.set_ylim(-1,5)\n",
    "plt.plot()"
   ]
  },
  {
   "cell_type": "code",
   "execution_count": 18,
   "metadata": {},
   "outputs": [
    {
     "name": "stdout",
     "output_type": "stream",
     "text": [
      "lapse time(min) to reach 950 :  100\n"
     ]
    },
    {
     "data": {
      "text/plain": [
       "[]"
      ]
     },
     "execution_count": 18,
     "metadata": {},
     "output_type": "execute_result"
    },
    {
     "data": {
      "image/png": "[encoded data removed]",
      "text/plain": [
       "<Figure size 720x288 with 2 Axes>"
      ]
     },
     "metadata": {
      "needs_background": "light"
     },
     "output_type": "display_data"
    }
   ],
   "source": [
    "# batch = summary2.sample(1).index.values[0]\n",
    "batch = 'S52869-1'\n",
    "\n",
    "sample = summary3[summary3.index.isin([batch])].set_index('time')\n",
    "print('lapse time(min) to reach 950 : ', len(sample)*5)\n",
    "\n",
    "#var = 'preheat_dif'\n",
    "var = 'inner_temp_pv'\n",
    "\n",
    "ax = sample['action'].plot(color='red', figsize=(10,4) )\n",
    "ax2 = ax.twinx()\n",
    "ax2 = sample[var].plot(color='blue', style='--', figsize=(10,4))\n",
    "plt.title(str(batch))\n",
    "ax.set_label('airgas ratio')\n",
    "ax2.set_label('inner temp')\n",
    "ax.set_ylim(-1,5)\n",
    "plt.plot()"
   ]
  },
  {
   "cell_type": "markdown",
   "metadata": {},
   "source": [
    "- ### Transition Function"
   ]
  },
  {
   "cell_type": "code",
   "execution_count": 19,
   "metadata": {},
   "outputs": [
    {
     "data": {
      "text/plain": [
       "10893"
      ]
     },
     "execution_count": 19,
     "metadata": {},
     "output_type": "execute_result"
    }
   ],
   "source": [
    "pd.options.display.float_format = \"{:,.2f}\".format\n",
    "input_data = summary3[['input_hard','pre_heated_air_temp','inner_press_pv','inner_temp_pv','airgas_ratio','action','time']]\n",
    "len(input_data)"
   ]
  },
  {
   "cell_type": "code",
   "execution_count": 20,
   "metadata": {},
   "outputs": [],
   "source": [
    "# Create target features (delta)\n",
    "input_data['preheat_delta'] = input_data.groupby('Batch')['pre_heated_air_temp'].transform(lambda x: x.shift(-1) - x)\n",
    "input_data['temp_delta'] = input_data.groupby('Batch')['inner_temp_pv'].transform(lambda x: x.shift(-1) - x)\n",
    "input_data['pressure_delta'] = input_data.groupby('Batch')['inner_press_pv'].transform(lambda x: x.shift(-1) - x)\n",
    "input_data.dropna(inplace=True)\n",
    "\n",
    "# Create X\n",
    "\n",
    "from sklearn import preprocessing\n",
    "input_features = ['pre_heated_air_temp','inner_press_pv', 'inner_temp_pv', 'input_hard', 'action']\n",
    "output_features = ['preheat_delta','pressure_delta','temp_delta']\n",
    "feature_list = input_features + output_features\n",
    "\n",
    "X_scaler = preprocessing.StandardScaler()\n",
    "Y_scaler = preprocessing.StandardScaler()\n",
    "X_std = X_scaler.fit_transform(input_data[input_features])\n",
    "Y_std = Y_scaler.fit_transform(input_data[output_features])\n"
   ]
  },
  {
   "cell_type": "code",
   "execution_count": 21,
   "metadata": {},
   "outputs": [],
   "source": [
    "with open(\"x_scaler\", \"wb\") as file:\n",
    "    pickle.dump(X_scaler, file)\n",
    "    \n",
    "with open(\"y_scaler\", \"wb\") as file:\n",
    "    pickle.dump(Y_scaler, file)    "
   ]
  },
  {
   "cell_type": "code",
   "execution_count": 22,
   "metadata": {},
   "outputs": [],
   "source": [
    "with open('x_scaler', 'rb') as file:\n",
    "    X_scaler = pickle.load(file)\n",
    "    \n",
    "with open('y_scaler', 'rb') as file:\n",
    "    Y_scaler = pickle.load(file)    "
   ]
  },
  {
   "cell_type": "code",
   "execution_count": 23,
   "metadata": {},
   "outputs": [],
   "source": [
    "input_data[['pre_heated_air_temp','inner_press_pv', 'inner_temp_pv', 'input_hard', 'action','time']].head()\n",
    "input_data.to_pickle('input_data.pkl')"
   ]
  },
  {
   "cell_type": "code",
   "execution_count": 24,
   "metadata": {},
   "outputs": [
    {
     "name": "stdout",
     "output_type": "stream",
     "text": [
      "(10062, 5) (10062, 3)\n"
     ]
    }
   ],
   "source": [
    "print(X_std.shape, Y_std.shape)"
   ]
  },
  {
   "cell_type": "code",
   "execution_count": 25,
   "metadata": {},
   "outputs": [
    {
     "data": {
      "text/plain": [
       "(10062, 8)"
      ]
     },
     "execution_count": 25,
     "metadata": {},
     "output_type": "execute_result"
    }
   ],
   "source": [
    "np.hstack((X_std, Y_std)).shape"
   ]
  },
  {
   "cell_type": "code",
   "execution_count": 26,
   "metadata": {},
   "outputs": [],
   "source": [
    "import torch\n",
    "import torchvision\n",
    "\n",
    "import torch.nn as nn\n",
    "import torch.nn.functional as F \n",
    "import torch.optim as optim\n",
    "import torch.nn.init as init\n",
    "\n",
    "from torch.utils.data import DataLoader, Dataset "
   ]
  },
  {
   "cell_type": "code",
   "execution_count": 27,
   "metadata": {},
   "outputs": [],
   "source": [
    "\n",
    "class Net(nn.Module):\n",
    "    def __init__(self):\n",
    "        super(Net, self).__init__()\n",
    "        self.fc1 = nn.Linear(5, 64)\n",
    "        self.fc2 = nn.Linear(64, 128)   \n",
    "        self.fc3 = nn.Linear(128, 3)\n",
    "        self.dropout_prob = 0.3\n",
    "        self.batch_norm1 = nn.BatchNorm1d(64)\n",
    "        self.batch_norm2 = nn.BatchNorm1d(128)        \n",
    "\n",
    "    def forward(self, x): \n",
    "        x = self.fc1(x)\n",
    "        x = self.batch_norm1(x)\n",
    "        x = F.relu(x)\n",
    "        x = F.dropout(x, training=self.training, p = self.dropout_prob)        \n",
    "        \n",
    "        x = self.fc2(x)\n",
    "        x = self.batch_norm2(x)\n",
    "        x = F.relu(x)\n",
    "        x = F.dropout(x, training=self.training, p = self.dropout_prob)                               \n",
    "        \n",
    "        x = self.fc3(x)\n",
    "        return x"
   ]
  },
  {
   "cell_type": "code",
   "execution_count": null,
   "metadata": {},
   "outputs": [
    {
     "name": "stdout",
     "output_type": "stream",
     "text": [
      "    0 :  1.3460\n",
      "  100 :  0.7335\n",
      "  200 :  0.7230\n",
      "  300 :  0.7300\n",
      "  400 :  0.7268\n",
      "  500 :  0.7204\n",
      "  600 :  0.7176\n",
      "  700 :  0.7177\n"
     ]
    }
   ],
   "source": [
    "def weight_init(m):\n",
    "    if isinstance(m, nn.Linear):\n",
    "        init.kaiming_uniform(m.weight.data)\n",
    "\n",
    "model = Net()\n",
    "model.apply(weight_init)\n",
    "\n",
    "\n",
    "class TensorData(Dataset):\n",
    "\n",
    "    def __init__(self, x_data, y_data):\n",
    "        self.x_data = torch.FloatTensor(x_data)\n",
    "        self.y_data = torch.FloatTensor(y_data)\n",
    "        self.len = self.y_data.shape[0]\n",
    "\n",
    "    def __getitem__(self, index):\n",
    "\n",
    "        return self.x_data[index], self.y_data[index] \n",
    "\n",
    "    def __len__(self):\n",
    "        return self.len\n",
    "\n",
    "trainsets = TensorData(X_std, Y_std)    \n",
    "trainloader = torch.utils.data.DataLoader(trainsets, batch_size = 32, shuffle = True, drop_last=True)\n",
    "\n",
    "\n",
    "LEARNING_RATE = 0.0005\n",
    "loss_list = [] # loss를 저장할 리스트.\n",
    "n = len(trainloader)\n",
    "\n",
    "criterion = torch.nn.MSELoss()\n",
    "optimizer = optim.Adam(model.parameters(), lr=LEARNING_RATE ) \n",
    "\n",
    "for epoch in range(1000):\n",
    "\n",
    "    running_loss = 0.0 # 한 에폭이 돌 때 그안에서 배치마다 loss가 나온다. 즉 한번 학습할 때 그렇게 쪼개지면서 loss가 다 나오니 MSE를 구하기 위해서 사용한다.\n",
    "\n",
    "    for i, data in enumerate(trainloader, 0): # 무작위로 섞인 32개의 데이터가 담긴 배치가 하나씩 들어온다.\n",
    "\n",
    "        inputs, values = data # data에는 X, Y가 들어있다.\n",
    "\n",
    "        optimizer.zero_grad() # 최적화 초기화.\n",
    "\n",
    "        outputs = model(inputs) # 모델에 입력값을 넣어 예측값을 산출한다.\n",
    "        loss = criterion(outputs, values) # 손실함수를 계산. error 계산.\n",
    "        loss.backward() # 손실 함수를 기준으로 역전파를 설정한다.\n",
    "        optimizer.step() # 역전파를 진행하고 가중치를 업데이트한다.\n",
    "\n",
    "        running_loss += loss.item() # epoch 마다 평균 loss를 계산하기 위해 배치 loss를 더한다.\n",
    "\n",
    "        loss_list.append(running_loss/n) # MSE(Mean Squared Error) 계산                \n",
    "\n",
    "    \n",
    "    if epoch % 100 == 0:\n",
    "        print(f'{epoch: 5d} : { pd.Series(loss_list).tail(10).mean(): 5.4f}')\n",
    "        \n",
    "    if (running_loss/n) < 0.7:\n",
    "        break        \n"
   ]
  },
  {
   "cell_type": "code",
   "execution_count": 325,
   "metadata": {},
   "outputs": [
    {
     "data": {
      "text/plain": [
       "Net(\n",
       "  (fc1): Linear(in_features=5, out_features=64, bias=True)\n",
       "  (fc2): Linear(in_features=64, out_features=128, bias=True)\n",
       "  (fc3): Linear(in_features=128, out_features=3, bias=True)\n",
       "  (batch_norm1): BatchNorm1d(64, eps=1e-05, momentum=0.1, affine=True, track_running_stats=True)\n",
       "  (batch_norm2): BatchNorm1d(128, eps=1e-05, momentum=0.1, affine=True, track_running_stats=True)\n",
       ")"
      ]
     },
     "execution_count": 325,
     "metadata": {},
     "output_type": "execute_result"
    }
   ],
   "source": [
    "# Save the final model\n",
    "model.eval()\n",
    "torch.save(model.state_dict(), 'transition.pt')\n",
    "model_weights = torch.load('transition.pt')\n",
    "model = Net()\n",
    "model.load_state_dict(model_weights)"
   ]
  },
  {
   "cell_type": "code",
   "execution_count": 326,
   "metadata": {},
   "outputs": [
    {
     "name": "stdout",
     "output_type": "stream",
     "text": [
      "torch.Size([1, 5])\n"
     ]
    },
    {
     "data": {
      "text/plain": [
       "tensor([[-0.9046, -0.1724,  0.1246]], grad_fn=<AddmmBackward0>)"
      ]
     },
     "execution_count": 326,
     "metadata": {},
     "output_type": "execute_result"
    }
   ],
   "source": [
    "X = torch.FloatTensor(X_std[:1])\n",
    "print(X.shape)\n",
    "model(X)"
   ]
  },
  {
   "cell_type": "code",
   "execution_count": 328,
   "metadata": {},
   "outputs": [
    {
     "data": {
      "text/plain": [
       "array([[-1.15414929, -0.80740473,  0.98756402]])"
      ]
     },
     "execution_count": 328,
     "metadata": {},
     "output_type": "execute_result"
    }
   ],
   "source": [
    "Y_std[:1]"
   ]
  },
  {
   "cell_type": "code",
   "execution_count": 297,
   "metadata": {},
   "outputs": [
    {
     "data": {
      "text/plain": [
       "1.9869651260503617e-05"
      ]
     },
     "execution_count": 297,
     "metadata": {},
     "output_type": "execute_result"
    }
   ],
   "source": [
    "# Gausian noise\n",
    "s = np.random.normal(0, 0.2, 10000)\n",
    "pd.Series(s).mean()"
   ]
  },
  {
   "cell_type": "code",
   "execution_count": 329,
   "metadata": {},
   "outputs": [
    {
     "data": {
      "text/html": [
       "<div>\n",
       "<style scoped>\n",
       "    .dataframe tbody tr th:only-of-type {\n",
       "        vertical-align: middle;\n",
       "    }\n",
       "\n",
       "    .dataframe tbody tr th {\n",
       "        vertical-align: top;\n",
       "    }\n",
       "\n",
       "    .dataframe thead th {\n",
       "        text-align: right;\n",
       "    }\n",
       "</style>\n",
       "<table border=\"1\" class=\"dataframe\">\n",
       "  <thead>\n",
       "    <tr style=\"text-align: right;\">\n",
       "      <th></th>\n",
       "      <th>pre_heated_air_temp</th>\n",
       "      <th>inner_press_pv</th>\n",
       "      <th>inner_temp_pv</th>\n",
       "      <th>input_hard</th>\n",
       "      <th>action</th>\n",
       "    </tr>\n",
       "    <tr>\n",
       "      <th>Batch</th>\n",
       "      <th></th>\n",
       "      <th></th>\n",
       "      <th></th>\n",
       "      <th></th>\n",
       "      <th></th>\n",
       "    </tr>\n",
       "  </thead>\n",
       "  <tbody>\n",
       "    <tr>\n",
       "      <th>S49137-1</th>\n",
       "      <td>166.88</td>\n",
       "      <td>7.84</td>\n",
       "      <td>777.04</td>\n",
       "      <td>18.00</td>\n",
       "      <td>4</td>\n",
       "    </tr>\n",
       "    <tr>\n",
       "      <th>S49137-1</th>\n",
       "      <td>165.70</td>\n",
       "      <td>5.99</td>\n",
       "      <td>799.60</td>\n",
       "      <td>18.00</td>\n",
       "      <td>0</td>\n",
       "    </tr>\n",
       "    <tr>\n",
       "      <th>S49137-1</th>\n",
       "      <td>166.58</td>\n",
       "      <td>7.43</td>\n",
       "      <td>818.94</td>\n",
       "      <td>18.00</td>\n",
       "      <td>0</td>\n",
       "    </tr>\n",
       "    <tr>\n",
       "      <th>S49137-1</th>\n",
       "      <td>168.99</td>\n",
       "      <td>9.48</td>\n",
       "      <td>839.72</td>\n",
       "      <td>18.00</td>\n",
       "      <td>0</td>\n",
       "    </tr>\n",
       "    <tr>\n",
       "      <th>S49137-1</th>\n",
       "      <td>172.08</td>\n",
       "      <td>6.29</td>\n",
       "      <td>854.13</td>\n",
       "      <td>18.00</td>\n",
       "      <td>0</td>\n",
       "    </tr>\n",
       "    <tr>\n",
       "      <th>S49137-1</th>\n",
       "      <td>174.57</td>\n",
       "      <td>0.82</td>\n",
       "      <td>866.20</td>\n",
       "      <td>18.00</td>\n",
       "      <td>4</td>\n",
       "    </tr>\n",
       "    <tr>\n",
       "      <th>S49137-1</th>\n",
       "      <td>177.88</td>\n",
       "      <td>3.69</td>\n",
       "      <td>867.75</td>\n",
       "      <td>18.00</td>\n",
       "      <td>1</td>\n",
       "    </tr>\n",
       "    <tr>\n",
       "      <th>S49137-1</th>\n",
       "      <td>180.84</td>\n",
       "      <td>4.71</td>\n",
       "      <td>895.07</td>\n",
       "      <td>18.00</td>\n",
       "      <td>0</td>\n",
       "    </tr>\n",
       "    <tr>\n",
       "      <th>S49137-1</th>\n",
       "      <td>184.70</td>\n",
       "      <td>4.91</td>\n",
       "      <td>916.80</td>\n",
       "      <td>18.00</td>\n",
       "      <td>1</td>\n",
       "    </tr>\n",
       "    <tr>\n",
       "      <th>S49137-1</th>\n",
       "      <td>188.93</td>\n",
       "      <td>4.79</td>\n",
       "      <td>932.31</td>\n",
       "      <td>18.00</td>\n",
       "      <td>0</td>\n",
       "    </tr>\n",
       "  </tbody>\n",
       "</table>\n",
       "</div>"
      ],
      "text/plain": [
       "          pre_heated_air_temp  inner_press_pv  inner_temp_pv  input_hard  \\\n",
       "Batch                                                                      \n",
       "S49137-1               166.88            7.84         777.04       18.00   \n",
       "S49137-1               165.70            5.99         799.60       18.00   \n",
       "S49137-1               166.58            7.43         818.94       18.00   \n",
       "S49137-1               168.99            9.48         839.72       18.00   \n",
       "S49137-1               172.08            6.29         854.13       18.00   \n",
       "S49137-1               174.57            0.82         866.20       18.00   \n",
       "S49137-1               177.88            3.69         867.75       18.00   \n",
       "S49137-1               180.84            4.71         895.07       18.00   \n",
       "S49137-1               184.70            4.91         916.80       18.00   \n",
       "S49137-1               188.93            4.79         932.31       18.00   \n",
       "\n",
       "          action  \n",
       "Batch             \n",
       "S49137-1       4  \n",
       "S49137-1       0  \n",
       "S49137-1       0  \n",
       "S49137-1       0  \n",
       "S49137-1       0  \n",
       "S49137-1       4  \n",
       "S49137-1       1  \n",
       "S49137-1       0  \n",
       "S49137-1       1  \n",
       "S49137-1       0  "
      ]
     },
     "execution_count": 329,
     "metadata": {},
     "output_type": "execute_result"
    }
   ],
   "source": [
    "input_data[input_features].head(10)"
   ]
  },
  {
   "cell_type": "code",
   "execution_count": 330,
   "metadata": {},
   "outputs": [
    {
     "name": "stdout",
     "output_type": "stream",
     "text": [
      "[[166.8847961    7.83920145 777.0363159   18.           4.        ]]\n",
      "1 [168.34714361   7.07530004 792.8614311   18.           0.        ]\n",
      "2 [170.10906549   6.41383231 808.94883154  18.           0.        ]\n",
      "3 [172.28455658   5.79183972 825.25654028  18.           0.        ]\n",
      "4 [174.83351012   5.18177575 841.8652706   18.           0.        ]\n",
      "5 [177.78664609   4.59695327 858.79244993  18.           0.        ]\n",
      "6 [181.11090656   4.10779455 875.84015844  18.           0.        ]\n",
      "7 [184.73678227   3.71470645 892.72392843  18.           0.        ]\n",
      "8 [188.59394856   3.4051339  909.31935499  18.           0.        ]\n",
      "9 [192.55862852   3.18744101 925.65729139  18.           0.        ]\n",
      "10 [196.49930759   3.0853389  940.3011875   18.           0.        ]\n",
      "11 [200.36940141   2.93536878 950.99917315  18.           0.        ]\n"
     ]
    }
   ],
   "source": [
    "from sklearn import preprocessing\n",
    "X_test = np.array(input_data[input_features][:1])\n",
    "print(X_test)\n",
    "\n",
    "X_test[0][4] = 0\n",
    "\n",
    "cnt = 0\n",
    "while True:\n",
    "    cnt += 1\n",
    "    Yhat = model(torch.FloatTensor(X_scaler.transform(X_test)))\n",
    "    delta = Y_scaler.inverse_transform(Yhat.detach().numpy())\n",
    "    delta = np.append(delta, [[0, 0]])\n",
    "    X_test = pd.DataFrame(np.array(X_test) + (delta))\n",
    "    print(cnt, np.array(X_test).flatten())\n",
    "    if X_test[2].item()>950:\n",
    "        break\n",
    "        \n",
    "# print(np.array(X_test))\n",
    "# print('\\n')\n",
    "# print(np.array(X_test.add(delta)))\n",
    "\n",
    "\n",
    "\n",
    "# scaler = preprocessing.StandardScaler()\n",
    "# X_std = scaler.fit_transform(input_data[input_features])\n",
    "# Y_std = scaler.fit_transform(input_data[output_features])\n"
   ]
  },
  {
   "cell_type": "code",
   "execution_count": 215,
   "metadata": {},
   "outputs": [],
   "source": [
    "'''\n",
    "class Burner:\n",
    "    \n",
    "    def __init__(self, sample_data):\n",
    "        self.actions = [0, 1, 2, 3, 4]\n",
    "        self.sample_data = sample_data\n",
    "        self.input_features = ['pre_heated_air_temp','inner_press_pv', 'inner_temp_pv', 'input_hard', 'action']\n",
    "        self.count = 0\n",
    "        self.action_list = []\n",
    "        \n",
    "        \n",
    "    def reset(self):       \n",
    "        self.state = np.array(self.sample_data.groupby('Batch').first().sample(1)[self.input_features])       \n",
    "        self.start_temp = self.state[0][2]\n",
    "        return self.state\n",
    "\n",
    "    def random_action(self):\n",
    "        sample = [0, 1, 2, 3, 4, 5, 6, 7, 8, 9]\n",
    "        return random.choice(sample)  \n",
    "        \n",
    "    def step(self, action):\n",
    "        self.count += 1\n",
    "        self.action_list.append(action)\n",
    "        self.state[0][4] = action\n",
    "        Yhat = model(torch.FloatTensor(X_scaler.transform(self.state)))\n",
    "        Yhat = Yhat  + torch.FloatTensor(np.random.normal(0, 0.2, 3)) # add Gausian noise\n",
    "        delta = Y_scaler.inverse_transform(Yhat.detach().numpy())\n",
    "        delta = np.append(delta, [[0, 0]])\n",
    "        next_state  = self.state + delta\n",
    "        self.state = next_state            \n",
    "        \n",
    "        r1 = (self.state[0][2] - self.start_temp) / (self.count*3) # Fuel efficiency\n",
    "        r2 = pd.Series(self.action_list).mean() # Fuel saving\n",
    "        alpha = 0.5\n",
    "        if (self.state[0][2]  > 950):   \n",
    "          \n",
    "                r = alpha*r1 + (1-alpha)*r2\n",
    "                done = True                            \n",
    "                self.count = 0            \n",
    "\n",
    "        else:\n",
    "            r = 0\n",
    "            done = False\n",
    "        \n",
    "        info = ''       \n",
    "        \n",
    "        return next_state, r, done, info\n",
    "'''        "
   ]
  },
  {
   "cell_type": "code",
   "execution_count": null,
   "metadata": {},
   "outputs": [],
   "source": [
    "'''\n",
    "burner = Burner(input_data)\n",
    "\n",
    "for step in range(2):\n",
    "\n",
    "    s = burner.reset()\n",
    "    i = 0\n",
    "    while True:\n",
    "        i += 1\n",
    "        a = random.choice([0, 1, 2, 3, 4, 5, 6, 7, 8, ])\n",
    "        s_prime, r, done, info = burner.step(a)\n",
    "        print(i, r, np.array(s_prime))\n",
    "        if done is True:\n",
    "            print('\\n')\n",
    "            break\n",
    "'''"
   ]
  },
  {
   "cell_type": "code",
   "execution_count": 254,
   "metadata": {},
   "outputs": [
    {
     "data": {
      "text/plain": [
       "count   10,893.00\n",
       "mean         5.10\n",
       "std          0.97\n",
       "min          2.95\n",
       "25%          4.34\n",
       "50%          5.07\n",
       "75%          5.79\n",
       "max          7.23\n",
       "Name: perf, dtype: float64"
      ]
     },
     "execution_count": 254,
     "metadata": {},
     "output_type": "execute_result"
    }
   ],
   "source": [
    "summary3['perf'].describe()"
   ]
  },
  {
   "cell_type": "code",
   "execution_count": 255,
   "metadata": {},
   "outputs": [
    {
     "data": {
      "text/plain": [
       "Index(['S50178-1', 'S51382-1', 'S54318-1', 'S57553-1', 'S61778-1', 'S62855-1'], dtype='object', name='Batch')"
      ]
     },
     "execution_count": 255,
     "metadata": {},
     "output_type": "execute_result"
    }
   ],
   "source": [
    "summary3[summary3['perf']>7.2].index.unique()"
   ]
  },
  {
   "cell_type": "code",
   "execution_count": 256,
   "metadata": {},
   "outputs": [
    {
     "data": {
      "text/plain": [
       "Index(['S52387-1', 'S52869-1', 'S53935-1', 'S56192-1', 'S59265-1', 'S59514-1'], dtype='object', name='Batch')"
      ]
     },
     "execution_count": 256,
     "metadata": {},
     "output_type": "execute_result"
    }
   ],
   "source": [
    "summary3[summary3['perf']<3.2].index.unique()"
   ]
  },
  {
   "cell_type": "code",
   "execution_count": null,
   "metadata": {},
   "outputs": [],
   "source": []
  }
 ],
 "metadata": {
  "kernelspec": {
   "display_name": "Python 3",
   "language": "python",
   "name": "python3"
  },
  "language_info": {
   "codemirror_mode": {
    "name": "ipython",
    "version": 3
   },
   "file_extension": ".py",
   "mimetype": "text/x-python",
   "name": "python",
   "nbconvert_exporter": "python",
   "pygments_lexer": "ipython3",
   "version": "3.8.5"
  }
 },
 "nbformat": 4,
 "nbformat_minor": 4
}
